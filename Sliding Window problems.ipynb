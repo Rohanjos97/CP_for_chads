{
 "cells": [
  {
   "cell_type": "markdown",
   "id": "ca5dd15e",
   "metadata": {},
   "source": [
    "## Sum of Subarray"
   ]
  },
  {
   "cell_type": "code",
   "execution_count": 114,
   "id": "72c20b06",
   "metadata": {},
   "outputs": [
    {
     "data": {
      "text/plain": [
       "[[-1, -4, 0, 5, 3, 2], [3, 2]]"
      ]
     },
     "execution_count": 114,
     "metadata": {},
     "output_type": "execute_result"
    }
   ],
   "source": [
    "import numpy as np\n",
    "\n",
    "# arr = [1, 2, 3, 4, 5, 6, 7, 8, 9]\n",
    "# arr = [1, 7, 4, 3, 1, 2, 1, 5, 1]\n",
    "arr =  [-1, -4, 0, 5, 3, 2, 1]\n",
    "sum_of_arr = 5\n",
    "start, window = 0, 2\n",
    "SoS = []\n",
    "\n",
    "while True:\n",
    "    # print(f'start: {start}, windows: {window}, arr[start: window]: {arr[start: window]} np.sum(arr[start: window]): {np.sum(arr[start: window])}')\n",
    "    if window == len(arr):\n",
    "        break\n",
    "    if np.sum(arr[start: window]) == sum_of_arr:\n",
    "        # print('=')\n",
    "        SoS.append(arr[start: window])\n",
    "        start += 1\n",
    "        window = 2\n",
    "    if np.sum(arr[start: window]) < sum_of_arr:\n",
    "        # print('<')\n",
    "        window += 1\n",
    "    elif np.sum(arr[start: window]) > sum_of_arr:\n",
    "        # print('>')\n",
    "        start += 1\n",
    "SoS"
   ]
  },
  {
   "cell_type": "markdown",
   "id": "bd7b6601",
   "metadata": {},
   "source": [
    "## Minimum Sum of Subarray of Given Size"
   ]
  },
  {
   "cell_type": "code",
   "execution_count": 64,
   "id": "018dae18",
   "metadata": {},
   "outputs": [
    {
     "name": "stdout",
     "output_type": "stream",
     "text": [
      "min_ind: 3, window_size: 2, arr[min_ind:window_size]: [1, -3]\n"
     ]
    }
   ],
   "source": [
    "arr = [-1, 2, 3, 1, -3, 2]\n",
    "start, window_size = 0, 2\n",
    "min_ind, min_sum = start, 1000000\n",
    "arr[start: window_size]\n",
    "\n",
    "while start < len(arr):\n",
    "    # print(f'arr[start: start+window]: {arr[start: start+window_size]}, np.sum(arr[start: start+window]): {np.sum(arr[start: start+window_size])}')\n",
    "    if np.sum(arr[start: start+window_size]) < min_sum:\n",
    "        # print('True')\n",
    "        min_ind = start\n",
    "        min_sum = np.sum(arr[start: start+window_size])\n",
    "        start += 1\n",
    "    else:\n",
    "        # print('False')\n",
    "        start += 1\n",
    "\n",
    "print(f'min_ind: {min_ind}, window_size: {window_size}, arr[min_ind:window_size]: {arr[min_ind: min_ind + window_size]}')"
   ]
  },
  {
   "cell_type": "markdown",
   "id": "a11986c8",
   "metadata": {},
   "source": [
    "## Maximum Sum of Subarray of Given Size"
   ]
  },
  {
   "cell_type": "code",
   "execution_count": 67,
   "id": "001fc424",
   "metadata": {},
   "outputs": [
    {
     "name": "stdout",
     "output_type": "stream",
     "text": [
      "arr[start: start+window]: [-1, 2], np.sum(arr[start: start+window]): 1\n",
      "True\n",
      "arr[start: start+window]: [2, 3], np.sum(arr[start: start+window]): 5\n",
      "True\n",
      "arr[start: start+window]: [3, 1], np.sum(arr[start: start+window]): 4\n",
      "False\n",
      "arr[start: start+window]: [1, -3], np.sum(arr[start: start+window]): -2\n",
      "False\n",
      "arr[start: start+window]: [-3, 2], np.sum(arr[start: start+window]): -1\n",
      "False\n",
      "arr[start: start+window]: [2], np.sum(arr[start: start+window]): 2\n",
      "False\n",
      "max_ind: 1, window_size: 2, arr[max_ind:window_size]: [2, 3]\n"
     ]
    }
   ],
   "source": [
    "arr = [-1, 2, 3, 1, -3, 2]\n",
    "start, window_size = 0, 2\n",
    "max_ind, max_sum = start, 0\n",
    "arr[start: window_size]\n",
    "\n",
    "while start < len(arr):\n",
    "    # print(f'arr[start: start+window]: {arr[start: start+window_size]}, np.sum(arr[start: start+window]): {np.sum(arr[start: start+window_size])}')\n",
    "    if np.sum(arr[start: start+window_size]) > max_sum:\n",
    "        # print('True')\n",
    "        max_ind = start\n",
    "        max_sum = np.sum(arr[start: start+window_size])\n",
    "        start += 1\n",
    "    else:\n",
    "        # print('False')\n",
    "        start += 1\n",
    "\n",
    "print(f'max_ind: {max_ind}, window_size: {window_size}, arr[max_ind:window_size]: {arr[max_ind: max_ind + window_size]}')"
   ]
  },
  {
   "cell_type": "markdown",
   "id": "77642765",
   "metadata": {},
   "source": [
    "# Flipping/Swapping: Given an array of 0’s and 1’s, find the maximum sequence of continuous 1’s that can be formed by flipping at-most k 0’s to 1’s"
   ]
  },
  {
   "cell_type": "code",
   "execution_count": 39,
   "id": "27e84636",
   "metadata": {},
   "outputs": [],
   "source": [
    "arr = [0, 1, 0, 1, 0, 0, 1, 1]\n",
    "k, cnt = 2, 0\n",
    "itr, start, end = 0, 0, 0"
   ]
  },
  {
   "cell_type": "code",
   "execution_count": 40,
   "id": "3e7e7ffc",
   "metadata": {
    "scrolled": true
   },
   "outputs": [
    {
     "name": "stdout",
     "output_type": "stream",
     "text": [
      "[0, 1, 0, 1, 0, 0, 1, 1] [0]\n",
      "[0, 1, 0, 1, 0, 0, 1, 1] [0, 1]\n",
      "[0, 1, 0, 1, 0, 0, 1, 1] [0, 1, 0]\n",
      "[0, 1, 0, 1, 0, 0, 1, 1] [0, 1, 0, 1]\n",
      "[0, 1, 0, 1, 0, 0, 1, 1] [0, 1, 0, 1, 0]\n",
      "reset window\n",
      "[0, 1, 0, 1, 0, 0, 1, 1] [1]\n",
      "[0, 1, 0, 1, 0, 0, 1, 1] [1, 0]\n",
      "[0, 1, 0, 1, 0, 0, 1, 1] [1, 0, 1]\n",
      "[0, 1, 0, 1, 0, 0, 1, 1] [1, 0, 1, 0]\n",
      "[0, 1, 0, 1, 0, 0, 1, 1] [1, 0, 1, 0, 0]\n",
      "reset window\n",
      "[0, 1, 0, 1, 0, 0, 1, 1] [0]\n",
      "[0, 1, 0, 1, 0, 0, 1, 1] [0, 1]\n",
      "[0, 1, 0, 1, 0, 0, 1, 1] [0, 1, 0]\n",
      "[0, 1, 0, 1, 0, 0, 1, 1] [0, 1, 0, 0]\n",
      "reset window\n",
      "[0, 1, 0, 1, 0, 0, 1, 1] [1]\n",
      "[0, 1, 0, 1, 0, 0, 1, 1] [1, 0]\n",
      "[0, 1, 0, 1, 0, 0, 1, 1] [1, 0, 0]\n",
      "[0, 1, 0, 1, 0, 0, 1, 1] [1, 0, 0, 1]\n",
      "[0, 1, 0, 1, 0, 0, 1, 1] [1, 0, 0, 1, 1]\n",
      "Max. no of sequence of continious 1's with 2 swaps are: 5\n",
      "The sub array that satisfies the condition is: [1, 0, 0, 1, 1]\n"
     ]
    }
   ],
   "source": [
    "while itr < len(arr):\n",
    "    print(arr, arr[end: start+1])\n",
    "    if arr[itr] == 0:\n",
    "        if cnt < k:\n",
    "            cnt += 1\n",
    "            itr += 1\n",
    "            start += 1\n",
    "        else:\n",
    "            print('reset window')\n",
    "            end += 1\n",
    "            start = end\n",
    "            itr = end\n",
    "            cnt = 0\n",
    "    elif arr[itr] == 1:\n",
    "        itr += 1\n",
    "        start += 1\n",
    "\n",
    "print(f'Max. no of sequence of continious 1\\'s with {k} swaps are: {start - end}')\n",
    "print(f'The sub array that satisfies the condition is: {arr[end:start]}')"
   ]
  },
  {
   "cell_type": "markdown",
   "id": "37edc2b8",
   "metadata": {},
   "source": [
    "## Strings: Given a string and n characters, find the shortest substring that contains all desired characters"
   ]
  },
  {
   "cell_type": "code",
   "execution_count": 328,
   "id": "d4f3c9e9",
   "metadata": {},
   "outputs": [],
   "source": [
    "# arr = 'fa4chba4c'\n",
    "# arr = 'this is a test string'\n",
    "arr = 'geeksforgeeks'\n",
    "\n",
    "# des_chars = 'abc'\n",
    "# des_chars = 'tist'\n",
    "des_chars = 'ork'\n",
    "\n",
    "tmp = des_chars\n",
    "tmp = [char for char in des_chars]\n",
    "\n",
    "itr, start, end = 0, -1, -1\n",
    "shortest_len = 9999\n",
    "shortest_end, shortest_start = -1, -1"
   ]
  },
  {
   "cell_type": "code",
   "execution_count": 329,
   "id": "3cf16fbb",
   "metadata": {},
   "outputs": [],
   "source": [
    "while True:\n",
    "    if itr == len(arr) - 1:\n",
    "        break\n",
    "    if arr[itr] in tmp:\n",
    "        if start == -1 and end == -1:\n",
    "            start, end = itr, itr\n",
    "        else:\n",
    "            start = itr\n",
    "        tmp.remove(arr[itr])\n",
    "    \n",
    "    if len(tmp) == 0:\n",
    "        if (start - end + 1) < shortest_len:\n",
    "            shortest_len = start - end + 1\n",
    "            shortest_start = start\n",
    "            shortest_end = end\n",
    "        tmp = [char for char in des_chars]\n",
    "        itr = end\n",
    "        start, end = -1, -1\n",
    "    itr += 1"
   ]
  },
  {
   "cell_type": "code",
   "execution_count": 327,
   "id": "d08a27c4",
   "metadata": {},
   "outputs": [
    {
     "data": {
      "text/plain": [
       "'ksfor'"
      ]
     },
     "execution_count": 327,
     "metadata": {},
     "output_type": "execute_result"
    }
   ],
   "source": [
    "arr[shortest_end: shortest_start + 1]"
   ]
  }
 ],
 "metadata": {
  "kernelspec": {
   "display_name": "Python 3 (ipykernel)",
   "language": "python",
   "name": "python3"
  },
  "language_info": {
   "codemirror_mode": {
    "name": "ipython",
    "version": 3
   },
   "file_extension": ".py",
   "mimetype": "text/x-python",
   "name": "python",
   "nbconvert_exporter": "python",
   "pygments_lexer": "ipython3",
   "version": "3.11.2"
  }
 },
 "nbformat": 4,
 "nbformat_minor": 5
}
