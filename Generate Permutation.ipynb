{
 "cells": [
  {
   "cell_type": "code",
   "execution_count": 137,
   "id": "222904e7",
   "metadata": {},
   "outputs": [],
   "source": [
    "list1 = [1,2,3]\n",
    "list1\n",
    "list1 = [str(itm) for itm in list1]"
   ]
  },
  {
   "cell_type": "code",
   "execution_count": 139,
   "id": "1a3ec5f1",
   "metadata": {},
   "outputs": [
    {
     "name": "stdout",
     "output_type": "stream",
     "text": [
      "1, 2, 3\n",
      "1, 3, 2\n",
      "2, 1, 3\n",
      "2, 3, 1\n",
      "3, 2, 1\n",
      "3, 1, 2\n"
     ]
    }
   ],
   "source": [
    "def perm(arr, swap_pos, length):\n",
    "    if swap_pos == length:\n",
    "        print(', '.join(arr))\n",
    "\n",
    "    for i in range(swap_pos, length):\n",
    "        if i != swap_pos and arr[i] == arr[swap_pos]:\n",
    "            continue\n",
    "        else:\n",
    "            arr[i], arr[swap_pos] = arr[swap_pos], arr[i]\n",
    "            perm(arr, swap_pos + 1, length)\n",
    "            arr[i], arr[swap_pos] = arr[swap_pos], arr[i]\n",
    "perm(list1, 0, len(list1))"
   ]
  },
  {
   "cell_type": "code",
   "execution_count": null,
   "id": "b33d7190",
   "metadata": {},
   "outputs": [],
   "source": []
  }
 ],
 "metadata": {
  "kernelspec": {
   "display_name": "Python 3 (ipykernel)",
   "language": "python",
   "name": "python3"
  },
  "language_info": {
   "codemirror_mode": {
    "name": "ipython",
    "version": 3
   },
   "file_extension": ".py",
   "mimetype": "text/x-python",
   "name": "python",
   "nbconvert_exporter": "python",
   "pygments_lexer": "ipython3",
   "version": "3.11.2"
  }
 },
 "nbformat": 4,
 "nbformat_minor": 5
}
