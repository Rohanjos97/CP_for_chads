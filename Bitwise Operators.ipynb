{
 "cells": [
  {
   "cell_type": "code",
   "execution_count": 27,
   "id": "bdf94bcc",
   "metadata": {},
   "outputs": [],
   "source": [
    "a, b = 2, 5"
   ]
  },
  {
   "cell_type": "code",
   "execution_count": 28,
   "id": "6f393e86",
   "metadata": {},
   "outputs": [
    {
     "data": {
      "text/plain": [
       "0"
      ]
     },
     "execution_count": 28,
     "metadata": {},
     "output_type": "execute_result"
    }
   ],
   "source": [
    "# AND operator\n",
    "a & b\n",
    "# 010 AND 101 = 000"
   ]
  },
  {
   "cell_type": "code",
   "execution_count": 46,
   "id": "347cb520",
   "metadata": {},
   "outputs": [
    {
     "data": {
      "text/plain": [
       "7"
      ]
     },
     "execution_count": 46,
     "metadata": {},
     "output_type": "execute_result"
    }
   ],
   "source": [
    "# OR operator\n",
    "a | b\n",
    "# 010 OR 101 = 111"
   ]
  },
  {
   "cell_type": "code",
   "execution_count": 47,
   "id": "506c652e",
   "metadata": {},
   "outputs": [
    {
     "data": {
      "text/plain": [
       "7"
      ]
     },
     "execution_count": 47,
     "metadata": {},
     "output_type": "execute_result"
    }
   ],
   "source": [
    "# XOR Operator\n",
    "a ^ b\n",
    "# 010 XOR 101 = 111"
   ]
  },
  {
   "cell_type": "code",
   "execution_count": 49,
   "id": "5e2aa4d1",
   "metadata": {},
   "outputs": [
    {
     "data": {
      "text/plain": [
       "4"
      ]
     },
     "execution_count": 49,
     "metadata": {},
     "output_type": "execute_result"
    }
   ],
   "source": [
    "# Left shift operator\n",
    "a << 1\n",
    "# 010 << 1bit = 100"
   ]
  },
  {
   "cell_type": "code",
   "execution_count": 50,
   "id": "c97dc37a",
   "metadata": {},
   "outputs": [
    {
     "data": {
      "text/plain": [
       "1"
      ]
     },
     "execution_count": 50,
     "metadata": {},
     "output_type": "execute_result"
    }
   ],
   "source": [
    "# Right SHift operator\n",
    "a >> 1\n",
    "# 010 >>1bit = 001"
   ]
  },
  {
   "cell_type": "code",
   "execution_count": 97,
   "id": "e8b1f16d",
   "metadata": {},
   "outputs": [
    {
     "name": "stdout",
     "output_type": "stream",
     "text": [
      "1 0 0 1 1 1 0 0\n"
     ]
    }
   ],
   "source": [
    "# Convert a number to its binary\n",
    "num = 156\n",
    "binary = []\n",
    "while num != 0:\n",
    "    # print(num)\n",
    "    binary.append(num%2)\n",
    "    num >>= 1\n",
    "binary.reverse()\n",
    "print(*binary)"
   ]
  },
  {
   "cell_type": "code",
   "execution_count": 102,
   "id": "15825930",
   "metadata": {},
   "outputs": [
    {
     "data": {
      "text/plain": [
       "8"
      ]
     },
     "execution_count": 102,
     "metadata": {},
     "output_type": "execute_result"
    }
   ],
   "source": [
    "# Find length of bits used in the number\n",
    "(156).bit_length()"
   ]
  },
  {
   "cell_type": "code",
   "execution_count": 107,
   "id": "16799a52",
   "metadata": {},
   "outputs": [
    {
     "data": {
      "text/plain": [
       "10011100"
      ]
     },
     "execution_count": 107,
     "metadata": {},
     "output_type": "execute_result"
    }
   ],
   "source": [
    "a = f'{156:b}'\n",
    "int(a)"
   ]
  }
 ],
 "metadata": {
  "kernelspec": {
   "display_name": "Python 3 (ipykernel)",
   "language": "python",
   "name": "python3"
  },
  "language_info": {
   "codemirror_mode": {
    "name": "ipython",
    "version": 3
   },
   "file_extension": ".py",
   "mimetype": "text/x-python",
   "name": "python",
   "nbconvert_exporter": "python",
   "pygments_lexer": "ipython3",
   "version": "3.11.2"
  }
 },
 "nbformat": 4,
 "nbformat_minor": 5
}
