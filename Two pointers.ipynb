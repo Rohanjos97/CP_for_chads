{
 "cells": [
  {
   "cell_type": "code",
   "execution_count": 55,
   "id": "6b08586d",
   "metadata": {},
   "outputs": [
    {
     "data": {
      "text/plain": [
       "([10, 20, 30, 40, 50], [-4, -3, 0, 1, 10])"
      ]
     },
     "execution_count": 55,
     "metadata": {},
     "output_type": "execute_result"
    }
   ],
   "source": [
    "list1 = [10, 20, 30, 40, 50]\n",
    "list2 = [-4, -3, 0, 1, 10]\n",
    "list1, list2"
   ]
  },
  {
   "cell_type": "markdown",
   "id": "f8fa29da",
   "metadata": {},
   "source": [
    "### Reverse in-place"
   ]
  },
  {
   "cell_type": "code",
   "execution_count": 17,
   "id": "60f86cb4",
   "metadata": {},
   "outputs": [
    {
     "data": {
      "text/plain": [
       "[10, 40, 30, 20, 50]"
      ]
     },
     "execution_count": 17,
     "metadata": {},
     "output_type": "execute_result"
    }
   ],
   "source": [
    "def reverse_inplace(arr):\n",
    "    begin, end = 0, len(arr)-1\n",
    "    while begin < end:\n",
    "        arr[end], arr[begin] = arr[begin], arr[end]\n",
    "        begin += 1\n",
    "        end -= 1\n",
    "    return arr\n",
    "\n",
    "reverse_inplace(list1)\n",
    "list1"
   ]
  },
  {
   "cell_type": "markdown",
   "id": "86001c26",
   "metadata": {},
   "source": [
    "### squares of each number sorted in non-decreasing order."
   ]
  },
  {
   "cell_type": "code",
   "execution_count": 57,
   "id": "7ed28ce9",
   "metadata": {},
   "outputs": [
    {
     "data": {
      "text/plain": [
       "[0, 1, 9, 16, 100]"
      ]
     },
     "execution_count": 57,
     "metadata": {},
     "output_type": "execute_result"
    }
   ],
   "source": [
    "def sq_dec(arr):\n",
    "    length = len(arr)\n",
    "    res, ptr = [0]*length, length-1\n",
    "    begin, end = 0, length-1\n",
    "    while begin < end:\n",
    "        # print(begin, end)\n",
    "        if abs(arr[begin]) < abs(arr[end]):\n",
    "            res[ptr] = arr[end] ** 2\n",
    "            end -= 1\n",
    "            ptr -= 1\n",
    "        else:\n",
    "            res[ptr] = arr[begin] ** 2\n",
    "            begin += 1\n",
    "            ptr -= 1\n",
    "\n",
    "#     if abs(arr[begin]) > abs(arr[end]):\n",
    "#         res[ptr] = arr[begin] ** 2\n",
    "#         ptr -= 1\n",
    "#         res[ptr] = arr[end] ** 2\n",
    "#     else:\n",
    "#         res[ptr] = arr[end] ** 2\n",
    "#         ptr -= 1\n",
    "#         res[ptr] = arr[begin] ** 2\n",
    "    return res\n",
    "            \n",
    "lst = sq_dec(list2)\n",
    "lst"
   ]
  },
  {
   "cell_type": "code",
   "execution_count": 62,
   "id": "49d79f1f",
   "metadata": {},
   "outputs": [
    {
     "data": {
      "text/plain": [
       "{'a'}"
      ]
     },
     "execution_count": 62,
     "metadata": {},
     "output_type": "execute_result"
    }
   ],
   "source": [
    "aset = set()\n",
    "aset.add('a')\n",
    "aset\n",
    "aset.add('a')\n",
    "aset"
   ]
  }
 ],
 "metadata": {
  "kernelspec": {
   "display_name": "Python 3 (ipykernel)",
   "language": "python",
   "name": "python3"
  },
  "language_info": {
   "codemirror_mode": {
    "name": "ipython",
    "version": 3
   },
   "file_extension": ".py",
   "mimetype": "text/x-python",
   "name": "python",
   "nbconvert_exporter": "python",
   "pygments_lexer": "ipython3",
   "version": "3.11.2"
  }
 },
 "nbformat": 4,
 "nbformat_minor": 5
}
