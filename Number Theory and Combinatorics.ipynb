{
 "cells": [
  {
   "cell_type": "markdown",
   "id": "71758954",
   "metadata": {},
   "source": [
    "## Least prime factor of number till n"
   ]
  },
  {
   "cell_type": "code",
   "execution_count": 30,
   "id": "b798e2bb",
   "metadata": {},
   "outputs": [],
   "source": [
    "def least_prime_fact(n):\n",
    "    if n == 1:\n",
    "        return 1\n",
    "\n",
    "    if n % 2 == 0:\n",
    "        return 2\n",
    "    \n",
    "    for i in range(3, int(n/2) + 1):\n",
    "        if n % i == 0:\n",
    "            return i\n",
    "    return n"
   ]
  },
  {
   "cell_type": "code",
   "execution_count": 42,
   "id": "0536f7d1",
   "metadata": {},
   "outputs": [],
   "source": [
    "n = 23"
   ]
  },
  {
   "cell_type": "code",
   "execution_count": 43,
   "id": "92f0f1db",
   "metadata": {},
   "outputs": [
    {
     "name": "stdout",
     "output_type": "stream",
     "text": [
      "The least prime of 1 is: 1\n",
      "The least prime of 2 is: 2\n",
      "The least prime of 3 is: 3\n",
      "The least prime of 4 is: 2\n",
      "The least prime of 5 is: 5\n",
      "The least prime of 6 is: 2\n",
      "The least prime of 7 is: 7\n",
      "The least prime of 8 is: 2\n",
      "The least prime of 9 is: 3\n",
      "The least prime of 10 is: 2\n",
      "The least prime of 11 is: 11\n",
      "The least prime of 12 is: 2\n",
      "The least prime of 13 is: 13\n",
      "The least prime of 14 is: 2\n",
      "The least prime of 15 is: 3\n",
      "The least prime of 16 is: 2\n",
      "The least prime of 17 is: 17\n",
      "The least prime of 18 is: 2\n",
      "The least prime of 19 is: 19\n",
      "The least prime of 20 is: 2\n",
      "The least prime of 21 is: 3\n",
      "The least prime of 22 is: 2\n",
      "The least prime of 23 is: 23\n"
     ]
    }
   ],
   "source": [
    "for i in range (1, n+1):\n",
    "    print(f'The least prime of {i} is: {least_prime_fact(i)}')"
   ]
  },
  {
   "cell_type": "markdown",
   "id": "3062498d",
   "metadata": {},
   "source": [
    "## Sum of all factors of a number"
   ]
  },
  {
   "cell_type": "code",
   "execution_count": 44,
   "id": "2448b613",
   "metadata": {},
   "outputs": [],
   "source": [
    "n = 30"
   ]
  },
  {
   "cell_type": "code",
   "execution_count": 57,
   "id": "c8a5c927",
   "metadata": {},
   "outputs": [],
   "source": [
    "import sys\n",
    "def sum_prime_numbers(n):\n",
    "    sum = 0\n",
    "    for i in range (1, n+1):\n",
    "        if n % i == 0:\n",
    "            print(i)\n",
    "            sum += i\n",
    "    return sum"
   ]
  },
  {
   "cell_type": "code",
   "execution_count": 58,
   "id": "11837fa6",
   "metadata": {},
   "outputs": [
    {
     "name": "stdout",
     "output_type": "stream",
     "text": [
      "1\n",
      "3\n",
      "5\n",
      "15\n"
     ]
    },
    {
     "data": {
      "text/plain": [
       "24"
      ]
     },
     "execution_count": 58,
     "metadata": {},
     "output_type": "execute_result"
    }
   ],
   "source": [
    "sum_prime_numbers(15)"
   ]
  },
  {
   "cell_type": "markdown",
   "id": "52002445",
   "metadata": {},
   "source": [
    "# GCD or HCF of two numbers"
   ]
  },
  {
   "cell_type": "code",
   "execution_count": null,
   "id": "bbf66a34",
   "metadata": {},
   "outputs": [],
   "source": []
  }
 ],
 "metadata": {
  "kernelspec": {
   "display_name": "Python 3 (ipykernel)",
   "language": "python",
   "name": "python3"
  },
  "language_info": {
   "codemirror_mode": {
    "name": "ipython",
    "version": 3
   },
   "file_extension": ".py",
   "mimetype": "text/x-python",
   "name": "python",
   "nbconvert_exporter": "python",
   "pygments_lexer": "ipython3",
   "version": "3.11.2"
  }
 },
 "nbformat": 4,
 "nbformat_minor": 5
}
