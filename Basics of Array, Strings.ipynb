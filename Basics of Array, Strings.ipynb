{
 "cells": [
  {
   "cell_type": "markdown",
   "id": "c7fbc5b2",
   "metadata": {},
   "source": [
    "## Prefix Sum of Matrix"
   ]
  },
  {
   "cell_type": "code",
   "execution_count": 157,
   "id": "e0a66e6d",
   "metadata": {},
   "outputs": [
    {
     "data": {
      "text/plain": [
       "array([[ 1.,  2.,  3.,  4.,  5.],\n",
       "       [ 2.,  4.,  6.,  8., 10.],\n",
       "       [ 3.,  6.,  9., 12., 15.],\n",
       "       [ 4.,  8., 12., 16., 20.]])"
      ]
     },
     "execution_count": 157,
     "metadata": {},
     "output_type": "execute_result"
    }
   ],
   "source": [
    "import numpy as np\n",
    "\n",
    "# a = [[10, 20, 30],\n",
    "#     [5, 10, 20,],\n",
    "#     [2, 4, 6]]\n",
    "\n",
    "a = [[ 1, 1, 1, 1, 1 ],\n",
    "     [ 1, 1, 1, 1, 1 ],\n",
    "     [ 1, 1, 1, 1, 1 ],\n",
    "     [ 1, 1, 1, 1, 1 ]]\n",
    "\n",
    "b = np.zeros(shape=(len(a), len(a[0])))\n",
    "row = 0\n",
    "\n",
    "while row < len(a):\n",
    "    for i in range(len(a[0])):\n",
    "        b[row][i] = np.sum(a[row][0:i+1])\n",
    "        if row >0:\n",
    "            b[row][i] += b[row-1][i]\n",
    "    row += 1\n",
    "b"
   ]
  }
 ],
 "metadata": {
  "kernelspec": {
   "display_name": "Python 3 (ipykernel)",
   "language": "python",
   "name": "python3"
  },
  "language_info": {
   "codemirror_mode": {
    "name": "ipython",
    "version": 3
   },
   "file_extension": ".py",
   "mimetype": "text/x-python",
   "name": "python",
   "nbconvert_exporter": "python",
   "pygments_lexer": "ipython3",
   "version": "3.11.2"
  }
 },
 "nbformat": 4,
 "nbformat_minor": 5
}
